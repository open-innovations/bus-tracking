{
 "cells": [
  {
   "cell_type": "markdown",
   "metadata": {},
   "source": [
    "A script to calculate the intersections of multiple multi-polygons"
   ]
  },
  {
   "cell_type": "code",
   "execution_count": 1,
   "metadata": {},
   "outputs": [
    {
     "data": {
      "text/plain": [
       "PosixPath('/Users/lukestrange/Code/bus-tracking')"
      ]
     },
     "execution_count": 1,
     "metadata": {},
     "output_type": "execute_result"
    }
   ],
   "source": [
    "import json\n",
    "import os\n",
    "import geopandas as gpd\n",
    "from collections import defaultdict\n",
    "from pathlib import Path\n",
    "from shapely.geometry import mapping, shape\n",
    "ROOT = Path('../')\n",
    "ROOT.resolve()"
   ]
  },
  {
   "cell_type": "code",
   "execution_count": null,
   "metadata": {},
   "outputs": [],
   "source": [
    "region = 'north_west'\n",
    "date = '20240916'\n",
    "time = '1615'"
   ]
  },
  {
   "cell_type": "code",
   "execution_count": 3,
   "metadata": {},
   "outputs": [],
   "source": [
    "def round_coords(geom, precision=5):\n",
    "    '''Function to round coordinates to 5 decimal places'''\n",
    "    if geom.is_empty:\n",
    "        return geom\n",
    "    # Map the geometry to a dict, round coordinates, and return as a new shape\n",
    "    return shape({\n",
    "        'type': geom.geom_type,\n",
    "        'coordinates': _round_recursive(mapping(geom)['coordinates'], precision)\n",
    "    })\n",
    "\n",
    "def _round_recursive(coords, precision):\n",
    "    '''Helper function to round coordinates recursively'''\n",
    "    if isinstance(coords, (tuple, list)):\n",
    "        return [\n",
    "            _round_recursive(c, precision) if isinstance(c, (list, tuple)) else round(c, precision)\n",
    "            for c in coords\n",
    "        ]\n",
    "    return round(coords, precision)"
   ]
  },
  {
   "cell_type": "code",
   "execution_count": 4,
   "metadata": {},
   "outputs": [
    {
     "name": "stdout",
     "output_type": "stream",
     "text": [
      "Combined GeoJSON with intersections saved to ../data/geojson/north_west/real/intersections/wc_202409166_1615.geojson\n"
     ]
    }
   ],
   "source": [
    "# Define the path to the directory containing the GeoJSON files\n",
    "directory_path = ROOT / f'data/geojson/{region}/real'\n",
    "output_file_path = directory_path / f'intersections/wc_{date}_{time}.geojson'\n",
    "\n",
    "# Initialize a dictionary to hold features grouped by the \"time\" property\n",
    "grouped_features = defaultdict(list)\n",
    "\n",
    "# Loop through each file in the specified directory\n",
    "for filename in os.listdir(directory_path):\n",
    "    if filename.endswith('.geojson'):\n",
    "        file_path = os.path.join(directory_path, filename)\n",
    "        \n",
    "        # Read the GeoJSON file into a GeoDataFrame\n",
    "        gdf = gpd.read_file(file_path)\n",
    "        \n",
    "        # Iterate through the features (rows) in the GeoDataFrame\n",
    "        for index, row in gdf.iterrows():\n",
    "            time_value = row['time']\n",
    "            grouped_features[time_value].append(row)\n",
    "\n",
    "# Create a list to hold combined features for the new GeoDataFrame\n",
    "combined_features = []\n",
    "\n",
    "# Construct a new GeoDataFrame with combined features\n",
    "for time_value, features in grouped_features.items():\n",
    "    # Start with the geometry of the first feature\n",
    "    combined_geometry = features[0].geometry\n",
    "    \n",
    "    # Validate and clean the initial geometry\n",
    "    if not combined_geometry.is_valid:\n",
    "        combined_geometry = combined_geometry.buffer(0)  # Fix invalid geometry\n",
    "    \n",
    "    # Iterate through the remaining features and calculate intersections\n",
    "    for feature in features[1:]:\n",
    "        current_geometry = feature.geometry\n",
    "        \n",
    "        # Validate and clean the current geometry\n",
    "        if not current_geometry.is_valid:\n",
    "            current_geometry = current_geometry.buffer(0)  # Fix invalid geometry\n",
    "            \n",
    "        # Attempt to find the intersection\n",
    "        try:\n",
    "            combined_geometry = combined_geometry.intersection(current_geometry)\n",
    "        except Exception as e:\n",
    "            print(f\"Error calculating intersection with geometry: {e}\")\n",
    "            continue  # Skip to the next feature if an error occurs\n",
    "    \n",
    "    # Only add to combined_features if the intersection is valid\n",
    "    if not combined_geometry.is_empty and combined_geometry.is_valid:\n",
    "        # Round the geometry coordinates to 5 decimal places\n",
    "        rounded_geometry = round_coords(combined_geometry, precision=5)\n",
    "        # Create a new feature with combined geometry and the corresponding time\n",
    "        combined_feature = {\n",
    "            'geometry': rounded_geometry,\n",
    "            'properties': {'time': time_value}\n",
    "        }\n",
    "        combined_features.append(combined_feature)\n",
    "\n",
    "# Create a new GeoDataFrame from the combined features\n",
    "combined_gdf = gpd.GeoDataFrame.from_features(combined_features)\n",
    "# print(combined_gdf)\n",
    "combined_gdf.set_crs(\"EPSG:4326\", inplace=True)\n",
    "# Write the combined GeoDataFrame to a new GeoJSON file\n",
    "combined_gdf.to_file(output_file_path, driver='GeoJSON')\n",
    "\n",
    "print(f\"Combined GeoJSON with intersections saved to {output_file_path}\")\n"
   ]
  }
 ],
 "metadata": {
  "kernelspec": {
   "display_name": "bus-tracking-JZQiYmLK",
   "language": "python",
   "name": "python3"
  },
  "language_info": {
   "codemirror_mode": {
    "name": "ipython",
    "version": 3
   },
   "file_extension": ".py",
   "mimetype": "text/x-python",
   "name": "python",
   "nbconvert_exporter": "python",
   "pygments_lexer": "ipython3",
   "version": "3.12.7"
  }
 },
 "nbformat": 4,
 "nbformat_minor": 2
}
