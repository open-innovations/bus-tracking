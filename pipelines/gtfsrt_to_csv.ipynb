{
 "cells": [
  {
   "cell_type": "code",
   "execution_count": 1,
   "metadata": {},
   "outputs": [
    {
     "data": {
      "text/plain": [
       "PosixPath('/Users/lukestrange/Code/bus-tracking')"
      ]
     },
     "execution_count": 1,
     "metadata": {},
     "output_type": "execute_result"
    }
   ],
   "source": [
    "from gtfs_realtime_utils import *\n",
    "from utils import *\n",
    "import pandas as pd\n",
    "ROOT = Path(\"../\")\n",
    "ROOT.resolve()"
   ]
  },
  {
   "cell_type": "markdown",
   "metadata": {},
   "source": [
    "Parse GTFSRT data into pandas then clean it and write to CSV."
   ]
  },
  {
   "cell_type": "code",
   "execution_count": 3,
   "metadata": {},
   "outputs": [
    {
     "name": "stdout",
     "output_type": "stream",
     "text": [
      "Loaded data for 20240915\n",
      "28584494\n",
      "Fraction of data for 20240915 that was duplictaed in 'longitude', 'latitude', 'timestamp', 'vehicle_id', 'trip_id':0.8568668383634848\n",
      "Created dataframe for 20240915\n",
      "Finished writing 20240915\n",
      "Loaded data for 20240916\n",
      "25628104\n",
      "Fraction of data for 20240916 that was duplictaed in 'longitude', 'latitude', 'timestamp', 'vehicle_id', 'trip_id':0.6518878649782286\n",
      "Created dataframe for 20240916\n",
      "Finished writing 20240916\n",
      "Loaded data for 20240917\n",
      "28830261\n",
      "Fraction of data for 20240917 that was duplictaed in 'longitude', 'latitude', 'timestamp', 'vehicle_id', 'trip_id':0.62329643841934\n",
      "Created dataframe for 20240917\n",
      "Finished writing 20240917\n",
      "Loaded data for 20240918\n",
      "28835781\n",
      "Fraction of data for 20240918 that was duplictaed in 'longitude', 'latitude', 'timestamp', 'vehicle_id', 'trip_id':0.6373314806351178\n",
      "Created dataframe for 20240918\n",
      "Finished writing 20240918\n",
      "Loaded data for 20240919\n",
      "29227725\n",
      "Fraction of data for 20240919 that was duplictaed in 'longitude', 'latitude', 'timestamp', 'vehicle_id', 'trip_id':0.6247131790106826\n",
      "Created dataframe for 20240919\n",
      "Finished writing 20240919\n",
      "Loaded data for 20240920\n",
      "29412638\n",
      "Fraction of data for 20240920 that was duplictaed in 'longitude', 'latitude', 'timestamp', 'vehicle_id', 'trip_id':0.628073517241126\n",
      "Created dataframe for 20240920\n",
      "Finished writing 20240920\n",
      "Loaded data for 20240921\n",
      "29509351\n",
      "Fraction of data for 20240921 that was duplictaed in 'longitude', 'latitude', 'timestamp', 'vehicle_id', 'trip_id':0.683032676659002\n",
      "Created dataframe for 20240921\n",
      "Finished writing 20240921\n",
      "Loaded data for 20240922\n",
      "29604824\n",
      "Fraction of data for 20240922 that was duplictaed in 'longitude', 'latitude', 'timestamp', 'vehicle_id', 'trip_id':0.8489898470600602\n",
      "Created dataframe for 20240922\n",
      "Finished writing 20240922\n",
      "Loaded data for 20240923\n",
      "29353157\n",
      "Fraction of data for 20240923 that was duplictaed in 'longitude', 'latitude', 'timestamp', 'vehicle_id', 'trip_id':0.6309005876267415\n",
      "Created dataframe for 20240923\n",
      "Finished writing 20240923\n"
     ]
    }
   ],
   "source": [
    "for date in range(20240915, 20240924):\n",
    "    data = None\n",
    "    gtfsrt_filepaths = None\n",
    "    entities = None\n",
    "\n",
    "    date = str(date)\n",
    "    REALTIME_DATADIR = ROOT / f\"data/gtfs-rt\"\n",
    "    gtfsrt_filepaths = gtfsrt_filepaths_to_list(dir=REALTIME_DATADIR, date=date)\n",
    "    \n",
    "    # Initialise the feed object\n",
    "    feed = gtfs_realtime_pb2.FeedMessage()\n",
    "    # Add all the entities (bus location objects) to a list to iterate through later.\n",
    "    entities = entities_to_list(feed, gtfsrt_filepaths)\n",
    "    print(f\"Loaded data for {date}\")\n",
    "    # Add data to dataframe and sort\n",
    "    data = entity_list_to_df(entities, date)\n",
    "\n",
    "    print(f\"Created dataframe for {date}\")\n",
    "\n",
    "    data.to_csv(ROOT / f\"data/gtfs-rt/csv/{date}.csv\", index=False)\n",
    "    print(f'Finished writing {date}')"
   ]
  }
 ],
 "metadata": {
  "kernelspec": {
   "display_name": "bus-tracking-JZQiYmLK",
   "language": "python",
   "name": "python3"
  },
  "language_info": {
   "codemirror_mode": {
    "name": "ipython",
    "version": 3
   },
   "file_extension": ".py",
   "mimetype": "text/x-python",
   "name": "python",
   "nbconvert_exporter": "python",
   "pygments_lexer": "ipython3",
   "version": "3.12.7"
  }
 },
 "nbformat": 4,
 "nbformat_minor": 2
}
