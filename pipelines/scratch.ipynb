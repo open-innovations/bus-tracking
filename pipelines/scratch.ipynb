{
 "cells": [
  {
   "cell_type": "code",
   "execution_count": null,
   "metadata": {},
   "outputs": [],
   "source": [
    "from utils import *\n",
    "import seaborn as sns\n",
    "import matplotlib.pyplot as plt\n",
    "plt.rcParams['font.family'] = 'Arial'\n",
    "ROOT.resolve()"
   ]
  },
  {
   "cell_type": "markdown",
   "metadata": {},
   "source": [
    "Read GTFS timetable"
   ]
  },
  {
   "cell_type": "code",
   "execution_count": 128,
   "metadata": {},
   "outputs": [],
   "source": [
    "agencies, routes, trips, stops, stop_times, calendar, calendar_dates, shapes, frequencies = load_full_gtfs(ROOT / \"18SepGB_GTFS_Timetables_Downloaded/yorkshire\", include=['shapes.txt', 'frequencies.txt'])"
   ]
  },
  {
   "cell_type": "markdown",
   "metadata": {},
   "source": [
    "Read \"Real\" GTFS"
   ]
  },
  {
   "cell_type": "code",
   "execution_count": 129,
   "metadata": {},
   "outputs": [],
   "source": [
    "real_agencies, real_routes, real_trips, real_stops, real_stop_times, real_calendar, real_calendar_dates, real_shapes = load_full_gtfs(ROOT / \"real-19SepGB_GTFS_Timetables\", include=['shapes.txt'])"
   ]
  },
  {
   "cell_type": "code",
   "execution_count": null,
   "metadata": {},
   "outputs": [],
   "source": [
    "agency_id = 'OP931'\n",
    "bus_num = '13A'\n",
    "service_id = 208 # Runs mon, tues, weds, thurs, fri.\n",
    "headsign = \"Middleton\"\n",
    "start_stop = '45010683'  #Corn ex b\n",
    "end_stop = '45013651' # oakwell mount\n",
    "route_id = routes[(routes.agency_id == agency_id) & (routes.route_short_name == bus_num)].route_id.values[0]\n",
    "route_id"
   ]
  },
  {
   "cell_type": "code",
   "execution_count": 136,
   "metadata": {},
   "outputs": [],
   "source": [
    "def journey_time_for_specific_route(trips, stop_times, route_id:str, headsign:str, start_stop, end_stop, service_id=None):\n",
    "    \"\"\"\n",
    "    Calculate the journey times throughout the day for all trips on a given route and service.\n",
    "\n",
    "    Parameters\n",
    "    ----------\n",
    "    trips: Pandas.DataFrame\n",
    "        trips.txt from the GTFS file.\n",
    "\n",
    "    stop_times: Pandas.DataFrame\n",
    "        stop_times.txt from the GTFS file\n",
    "\n",
    "    route_id: str\n",
    "        The ID for this route.\n",
    "\n",
    "    service_id: int\n",
    "        Optional - Service ID for this bus. Details the days of the week and dates the service runs.\n",
    "        \n",
    "    headsign: str\n",
    "        Display on the front of the bus. Usually where the bus finishes.\n",
    "\n",
    "    Returns\n",
    "    -------\n",
    "    this_bus_journey_times: Pandas.DataFrame\n",
    "        Dataframe with trip_ids, time_of_day and time_taken_minutes columns.\n",
    "    \"\"\"\n",
    "    # Get the trips for this bus\n",
    "    if service_id:\n",
    "        this_bus_trips = trips.loc[(trips.route_id == route_id) & (trips.service_id == service_id) & (trips.trip_headsign == headsign)]\n",
    "    else:\n",
    "        this_bus_trips = trips.loc[(trips.route_id == route_id) & (trips.trip_headsign == headsign)]\n",
    "    # Get a list of unique trip_ids\n",
    "    this_bus_unique_trips_list = this_bus_trips.trip_id.unique()\n",
    "\n",
    "    # Get the stop_times for this bus\n",
    "    journey_stops = list((start_stop, end_stop))\n",
    "\n",
    "    \n",
    "    # Get the start and end stop\n",
    "    # start_stop = this_bus_stop_times[this_bus_stop_times.stop_sequence == this_bus_stop_times.stop_sequence.min()]['stop_id'].values[0]\n",
    "    # end_stop = this_bus_stop_times[this_bus_stop_times.stop_sequence == this_bus_stop_times.stop_sequence.max()]['stop_id'].values[0]\n",
    "    # print(start_stop, end_stop)\n",
    "    this_bus_stop_times = stop_times.loc[(stop_times.trip_id.isin(this_bus_unique_trips_list))].copy() #@TODO replace the indices here with variables fro stop_ids.\n",
    "    # Read the arrival time as a pandas datetime\n",
    "    this_bus_stop_times['arrival_time'] = pd.to_datetime(this_bus_stop_times.arrival_time, format='%H:%M:%S')\n",
    "\n",
    "    # Filter the trips where there is only one stop out of the two. Prevents 0min journey times.\n",
    "    this_bus_stop_times = this_bus_stop_times.groupby('trip_id').filter(lambda x: len(x) > 1)\n",
    "\n",
    "    # Group by trip and calculate the time taken from the first to last stops. \n",
    "    # Then get the time of day using the start time of the journey.\n",
    "    this_bus_journey_times = this_bus_stop_times.groupby('trip_id')['arrival_time'].agg(\n",
    "        time_of_day=lambda x: x.min().time(),  # Get the first stop time as \"time_of_day\"\n",
    "        time_taken_minutes=lambda x: (x.max() - x.min()).total_seconds() / 60  # Time taken between first and last stop\n",
    "    )\n",
    "    # Convert 'time_of_day' (datetime.time) to seconds since midnight for plotting\n",
    "    this_bus_journey_times['time_of_day_seconds'] = this_bus_journey_times['time_of_day'].apply(lambda x: x.hour * 3600 + x.minute * 60 + x.second)\n",
    "    \n",
    "    this_bus_journey_times.sort_values(by='time_of_day', inplace=True)\n",
    "\n",
    "    return this_bus_journey_times, this_bus_stop_times"
   ]
  },
  {
   "cell_type": "code",
   "execution_count": null,
   "metadata": {},
   "outputs": [],
   "source": [
    "timetabled, tt_times = journey_time_for_specific_route(trips, stop_times, route_id, headsign, start_stop, end_stop, service_id)\n",
    "real, real_times = journey_time_for_specific_route(real_trips, real_stop_times, route_id, headsign, start_stop, end_stop, service_id)\n",
    "real"
   ]
  },
  {
   "cell_type": "code",
   "execution_count": null,
   "metadata": {},
   "outputs": [],
   "source": [
    "fig, ax = plt.subplots()\n",
    "# Plot using seaborn\n",
    "sns.lineplot(data=timetabled, x='time_of_day_seconds', y='time_taken_minutes', marker='o', color='blue', ax=ax)\n",
    "sns.scatterplot(data=real, x='time_of_day_seconds', y='time_taken_minutes', marker='x', lw=2, color='orange', ax=ax)\n",
    "# Optional: Formatting the y-axis back to HH:MM format\n",
    "plt.gca().xaxis.set_major_formatter(plt.FuncFormatter(lambda s, _: f'{int(s//3600):02}:{int((s%3600)//60):02}'))\n",
    "ax.set_xlabel('Time of Day (HH:MM)')\n",
    "ax.set_ylabel('Journey time (minutes)')\n",
    "ax.set_title(f'Time Taken vs Time of Day for the number {bus_num} bus in Leeds \\n from Corn Exchange F to Oakwell Mount. \\nReal-time data 19/09/24. Timetable w/c 18/09/24')\n",
    "ax.set_ylim(0, 100)  # Set x-axis min/max\n",
    "# plt.legend()\n",
    "# Show plot\n",
    "plt.show()"
   ]
  },
  {
   "cell_type": "code",
   "execution_count": null,
   "metadata": {},
   "outputs": [],
   "source": []
  }
 ],
 "metadata": {
  "kernelspec": {
   "display_name": "bus-tracking-JZQiYmLK",
   "language": "python",
   "name": "python3"
  },
  "language_info": {
   "codemirror_mode": {
    "name": "ipython",
    "version": 3
   },
   "file_extension": ".py",
   "mimetype": "text/x-python",
   "name": "python",
   "nbconvert_exporter": "python",
   "pygments_lexer": "ipython3",
   "version": "3.12.7"
  }
 },
 "nbformat": 4,
 "nbformat_minor": 2
}
