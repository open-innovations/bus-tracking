{
 "cells": [
  {
   "cell_type": "markdown",
   "metadata": {},
   "source": [
    "Point of this notebook is to evaluate good the data is for LCRCA area in terms of coverage compared to the timetable and coverage of individual trips."
   ]
  },
  {
   "cell_type": "markdown",
   "metadata": {},
   "source": [
    "## Loading packages and setting paths"
   ]
  },
  {
   "cell_type": "code",
   "execution_count": 21,
   "metadata": {},
   "outputs": [
    {
     "data": {
      "text/plain": [
       "PosixPath('/Users/lukestrange/Code/bus-tracking')"
      ]
     },
     "execution_count": 21,
     "metadata": {},
     "output_type": "execute_result"
    }
   ],
   "source": [
    "from gtfs_realtime_utils import *\n",
    "from utils import *\n",
    "import pandas as pd\n",
    "import geopandas as gpd\n",
    "from shapely.geometry import Point\n",
    "ROOT = Path(\"../\")\n",
    "ROOT.resolve()"
   ]
  },
  {
   "cell_type": "markdown",
   "metadata": {},
   "source": [
    "## Loading the timetables for a specific region"
   ]
  },
  {
   "cell_type": "code",
   "execution_count": 22,
   "metadata": {},
   "outputs": [
    {
     "name": "stdout",
     "output_type": "stream",
     "text": [
      "File \"../18SepGB_GTFS_Timetables_Downloaded/itm_north_west_gtfs.zip\" is a zip file. Unzipping and reading...\n"
     ]
    }
   ],
   "source": [
    "# Load the timetable\n",
    "region = 'north_west'\n",
    "date = '20240923'\n",
    "tt_agencies, tt_routes, tt_trips, tt_stops, tt_stop_times, tt_calendar, tt_calendar_dates = load_full_gtfs(ROOT / f\"18SepGB_GTFS_Timetables_Downloaded/itm_{region}_gtfs.zip\")"
   ]
  },
  {
   "cell_type": "code",
   "execution_count": 23,
   "metadata": {},
   "outputs": [],
   "source": [
    "def unique_timetabled_trips_for_date(trips, calendar, date):\n",
    "    '''Calculate the number of unique trips for a given date using GTFS data loaded into a pandas dataframe'''\n",
    "    int_date = int(date)\n",
    "    str_date = str(date)\n",
    "    assert type(trips) == pd.DataFrame, '\"trips\" is not a dataframe.'\n",
    "    assert type(calendar) == pd.DataFrame, '\"calendar\" is not a dataframe.'\n",
    "    assert 'service_id' in calendar.columns, f\"'service_id' not in {calendar.columns}\"\n",
    "    assert 'trip_id' in trips.columns, f\"'service_id' not in {trips.columns}\"\n",
    "\n",
    "    p = trips.merge(calendar, on='service_id', how='inner')\n",
    "    # Convert to datetime object\n",
    "    date_obj = datetime.fromisoformat(str_date)\n",
    "    # Get the day of the week\n",
    "    day_of_week = date_obj.strftime('%A').lower()\n",
    "    # Select rows that run on that day of the week\n",
    "    p = p[p[day_of_week]==1]\n",
    "    # Select rows where the service date range covers the input date\n",
    "    p = p[(p.start_date <= int_date) & (p.end_date >= int_date)]\n",
    "    # Return the number of unique trip_id for that date of the timetable.\n",
    "    return p\n",
    "\n",
    "def count_unique_trip_id(df):\n",
    "    assert 'trip_id' in df.columns\n",
    "    return len(df.trip_id.unique())"
   ]
  },
  {
   "cell_type": "code",
   "execution_count": 24,
   "metadata": {},
   "outputs": [
    {
     "data": {
      "text/plain": [
       "39275"
      ]
     },
     "execution_count": 24,
     "metadata": {},
     "output_type": "execute_result"
    }
   ],
   "source": [
    "count_unique_trip_id(unique_timetabled_trips_for_date(tt_trips, tt_calendar, date=date))"
   ]
  },
  {
   "cell_type": "markdown",
   "metadata": {},
   "source": [
    "## Loading all bus data for England (excl. London) on a specific day"
   ]
  },
  {
   "cell_type": "code",
   "execution_count": 25,
   "metadata": {},
   "outputs": [
    {
     "data": {
      "text/html": [
       "<div>\n",
       "<style scoped>\n",
       "    .dataframe tbody tr th:only-of-type {\n",
       "        vertical-align: middle;\n",
       "    }\n",
       "\n",
       "    .dataframe tbody tr th {\n",
       "        vertical-align: top;\n",
       "    }\n",
       "\n",
       "    .dataframe thead th {\n",
       "        text-align: right;\n",
       "    }\n",
       "</style>\n",
       "<table border=\"1\" class=\"dataframe\">\n",
       "  <thead>\n",
       "    <tr style=\"text-align: right;\">\n",
       "      <th></th>\n",
       "      <th>trip_id</th>\n",
       "      <th>start_time</th>\n",
       "      <th>start_date</th>\n",
       "      <th>schedule_relationship</th>\n",
       "      <th>route_id</th>\n",
       "      <th>latitude</th>\n",
       "      <th>longitude</th>\n",
       "      <th>bearing</th>\n",
       "      <th>stop_sequence</th>\n",
       "      <th>status</th>\n",
       "      <th>timestamp</th>\n",
       "      <th>vehicle_id</th>\n",
       "    </tr>\n",
       "  </thead>\n",
       "  <tbody>\n",
       "    <tr>\n",
       "      <th>0</th>\n",
       "      <td></td>\n",
       "      <td>NaN</td>\n",
       "      <td>NaN</td>\n",
       "      <td>0</td>\n",
       "      <td>NaN</td>\n",
       "      <td>52.87360</td>\n",
       "      <td>0.50088</td>\n",
       "      <td>0.0</td>\n",
       "      <td>0</td>\n",
       "      <td>2</td>\n",
       "      <td>1726844771</td>\n",
       "      <td>.2-YJ55BJE</td>\n",
       "    </tr>\n",
       "    <tr>\n",
       "      <th>1</th>\n",
       "      <td></td>\n",
       "      <td>NaN</td>\n",
       "      <td>NaN</td>\n",
       "      <td>0</td>\n",
       "      <td>NaN</td>\n",
       "      <td>52.75412</td>\n",
       "      <td>0.39976</td>\n",
       "      <td>0.0</td>\n",
       "      <td>0</td>\n",
       "      <td>2</td>\n",
       "      <td>1727084117</td>\n",
       "      <td>.2-YJ55BJE</td>\n",
       "    </tr>\n",
       "    <tr>\n",
       "      <th>2</th>\n",
       "      <td></td>\n",
       "      <td>NaN</td>\n",
       "      <td>NaN</td>\n",
       "      <td>0</td>\n",
       "      <td>NaN</td>\n",
       "      <td>52.75440</td>\n",
       "      <td>0.39968</td>\n",
       "      <td>38.0</td>\n",
       "      <td>0</td>\n",
       "      <td>2</td>\n",
       "      <td>1727084205</td>\n",
       "      <td>.2-YJ55BJE</td>\n",
       "    </tr>\n",
       "    <tr>\n",
       "      <th>3</th>\n",
       "      <td>VJ211559a568a7bd128bcd4560f90f0b7a4920f27b</td>\n",
       "      <td>09:40:00</td>\n",
       "      <td>20240923.0</td>\n",
       "      <td>0</td>\n",
       "      <td>5240.0</td>\n",
       "      <td>52.75459</td>\n",
       "      <td>0.40012</td>\n",
       "      <td>0.0</td>\n",
       "      <td>1</td>\n",
       "      <td>2</td>\n",
       "      <td>1727084268</td>\n",
       "      <td>.2-YJ55BJE</td>\n",
       "    </tr>\n",
       "    <tr>\n",
       "      <th>4</th>\n",
       "      <td>VJ211559a568a7bd128bcd4560f90f0b7a4920f27b</td>\n",
       "      <td>09:40:00</td>\n",
       "      <td>20240923.0</td>\n",
       "      <td>0</td>\n",
       "      <td>5240.0</td>\n",
       "      <td>52.75459</td>\n",
       "      <td>0.40012</td>\n",
       "      <td>0.0</td>\n",
       "      <td>1</td>\n",
       "      <td>2</td>\n",
       "      <td>1727084301</td>\n",
       "      <td>.2-YJ55BJE</td>\n",
       "    </tr>\n",
       "    <tr>\n",
       "      <th>...</th>\n",
       "      <td>...</td>\n",
       "      <td>...</td>\n",
       "      <td>...</td>\n",
       "      <td>...</td>\n",
       "      <td>...</td>\n",
       "      <td>...</td>\n",
       "      <td>...</td>\n",
       "      <td>...</td>\n",
       "      <td>...</td>\n",
       "      <td>...</td>\n",
       "      <td>...</td>\n",
       "      <td>...</td>\n",
       "    </tr>\n",
       "    <tr>\n",
       "      <th>10834228</th>\n",
       "      <td>VJbc5e4ca32ba5041ecbfc81c9db7dd79f58169f50</td>\n",
       "      <td>20:19:00</td>\n",
       "      <td>20240923.0</td>\n",
       "      <td>0</td>\n",
       "      <td>3982.0</td>\n",
       "      <td>53.39408</td>\n",
       "      <td>-2.61254</td>\n",
       "      <td>189.0</td>\n",
       "      <td>9</td>\n",
       "      <td>2</td>\n",
       "      <td>1727123048</td>\n",
       "      <td>zDepot__999_</td>\n",
       "    </tr>\n",
       "    <tr>\n",
       "      <th>10834229</th>\n",
       "      <td>VJbc5e4ca32ba5041ecbfc81c9db7dd79f58169f50</td>\n",
       "      <td>20:19:00</td>\n",
       "      <td>20240923.0</td>\n",
       "      <td>0</td>\n",
       "      <td>3982.0</td>\n",
       "      <td>53.38960</td>\n",
       "      <td>-2.61134</td>\n",
       "      <td>164.0</td>\n",
       "      <td>11</td>\n",
       "      <td>2</td>\n",
       "      <td>1727123094</td>\n",
       "      <td>zDepot__999_</td>\n",
       "    </tr>\n",
       "    <tr>\n",
       "      <th>10834230</th>\n",
       "      <td>VJbc5e4ca32ba5041ecbfc81c9db7dd79f58169f50</td>\n",
       "      <td>20:19:00</td>\n",
       "      <td>20240923.0</td>\n",
       "      <td>0</td>\n",
       "      <td>3982.0</td>\n",
       "      <td>53.38882</td>\n",
       "      <td>-2.60631</td>\n",
       "      <td>87.0</td>\n",
       "      <td>11</td>\n",
       "      <td>2</td>\n",
       "      <td>1727123171</td>\n",
       "      <td>zDepot__999_</td>\n",
       "    </tr>\n",
       "    <tr>\n",
       "      <th>10834231</th>\n",
       "      <td></td>\n",
       "      <td>NaN</td>\n",
       "      <td>NaN</td>\n",
       "      <td>0</td>\n",
       "      <td>NaN</td>\n",
       "      <td>53.38918</td>\n",
       "      <td>-2.59720</td>\n",
       "      <td>348.0</td>\n",
       "      <td>0</td>\n",
       "      <td>2</td>\n",
       "      <td>1727123231</td>\n",
       "      <td>zDepot__999_</td>\n",
       "    </tr>\n",
       "    <tr>\n",
       "      <th>10834232</th>\n",
       "      <td>VJbc5e4ca32ba5041ecbfc81c9db7dd79f58169f50</td>\n",
       "      <td>20:19:00</td>\n",
       "      <td>20240923.0</td>\n",
       "      <td>0</td>\n",
       "      <td>3982.0</td>\n",
       "      <td>53.38918</td>\n",
       "      <td>-2.59720</td>\n",
       "      <td>348.0</td>\n",
       "      <td>14</td>\n",
       "      <td>2</td>\n",
       "      <td>1727123231</td>\n",
       "      <td>zDepot__999_</td>\n",
       "    </tr>\n",
       "  </tbody>\n",
       "</table>\n",
       "<p>10834233 rows × 12 columns</p>\n",
       "</div>"
      ],
      "text/plain": [
       "                                             trip_id start_time  start_date  \\\n",
       "0                                                           NaN         NaN   \n",
       "1                                                           NaN         NaN   \n",
       "2                                                           NaN         NaN   \n",
       "3         VJ211559a568a7bd128bcd4560f90f0b7a4920f27b   09:40:00  20240923.0   \n",
       "4         VJ211559a568a7bd128bcd4560f90f0b7a4920f27b   09:40:00  20240923.0   \n",
       "...                                              ...        ...         ...   \n",
       "10834228  VJbc5e4ca32ba5041ecbfc81c9db7dd79f58169f50   20:19:00  20240923.0   \n",
       "10834229  VJbc5e4ca32ba5041ecbfc81c9db7dd79f58169f50   20:19:00  20240923.0   \n",
       "10834230  VJbc5e4ca32ba5041ecbfc81c9db7dd79f58169f50   20:19:00  20240923.0   \n",
       "10834231                                                    NaN         NaN   \n",
       "10834232  VJbc5e4ca32ba5041ecbfc81c9db7dd79f58169f50   20:19:00  20240923.0   \n",
       "\n",
       "          schedule_relationship  route_id  latitude  longitude  bearing  \\\n",
       "0                             0       NaN  52.87360    0.50088      0.0   \n",
       "1                             0       NaN  52.75412    0.39976      0.0   \n",
       "2                             0       NaN  52.75440    0.39968     38.0   \n",
       "3                             0    5240.0  52.75459    0.40012      0.0   \n",
       "4                             0    5240.0  52.75459    0.40012      0.0   \n",
       "...                         ...       ...       ...        ...      ...   \n",
       "10834228                      0    3982.0  53.39408   -2.61254    189.0   \n",
       "10834229                      0    3982.0  53.38960   -2.61134    164.0   \n",
       "10834230                      0    3982.0  53.38882   -2.60631     87.0   \n",
       "10834231                      0       NaN  53.38918   -2.59720    348.0   \n",
       "10834232                      0    3982.0  53.38918   -2.59720    348.0   \n",
       "\n",
       "          stop_sequence  status   timestamp    vehicle_id  \n",
       "0                     0       2  1726844771    .2-YJ55BJE  \n",
       "1                     0       2  1727084117    .2-YJ55BJE  \n",
       "2                     0       2  1727084205    .2-YJ55BJE  \n",
       "3                     1       2  1727084268    .2-YJ55BJE  \n",
       "4                     1       2  1727084301    .2-YJ55BJE  \n",
       "...                 ...     ...         ...           ...  \n",
       "10834228              9       2  1727123048  zDepot__999_  \n",
       "10834229             11       2  1727123094  zDepot__999_  \n",
       "10834230             11       2  1727123171  zDepot__999_  \n",
       "10834231              0       2  1727123231  zDepot__999_  \n",
       "10834232             14       2  1727123231  zDepot__999_  \n",
       "\n",
       "[10834233 rows x 12 columns]"
      ]
     },
     "execution_count": 25,
     "metadata": {},
     "output_type": "execute_result"
    }
   ],
   "source": [
    "rt_data = pd.read_csv(ROOT / f\"data/gtfs-rt/csv/{date}.csv\",low_memory=False)\n",
    "rt_data['trip_id'] = rt_data['trip_id'].fillna('')\n",
    "rt_data"
   ]
  },
  {
   "cell_type": "markdown",
   "metadata": {},
   "source": [
    "## Recovering trip_ids that drop out and reappear for the same vehicle_id"
   ]
  },
  {
   "cell_type": "code",
   "execution_count": 26,
   "metadata": {},
   "outputs": [
    {
     "name": "stdout",
     "output_type": "stream",
     "text": [
      "Fraction of data with trip_id(s) before filling gaps: 84.76987\n",
      "Fraction of data with trip_id(s) after filling gaps: 86.61888\n"
     ]
    }
   ],
   "source": [
    "# How many trip_ids can we recover\n",
    "trip_id_list = rt_data.trip_id.to_list()\n",
    "filled_dropouts = fill_trip_ids(trip_id_list)\n",
    "print(\"Fraction of data with trip_id(s) before filling gaps:\", fraction_with_trip_id(trip_id_list))\n",
    "print(\"Fraction of data with trip_id(s) after filling gaps:\", fraction_with_trip_id(filled_dropouts))"
   ]
  },
  {
   "cell_type": "markdown",
   "metadata": {},
   "source": [
    "## How many of the Trip IDs in the North West timetable have at least one stop inside the Liverpool City Region CA boundary?"
   ]
  },
  {
   "cell_type": "code",
   "execution_count": 27,
   "metadata": {},
   "outputs": [],
   "source": [
    "# Load the boundary of LCRCA\n",
    "bndry = gpd.read_file(ROOT / \"data/geojson/LCRCA_May2023_Boundary_EN_BGC.geojson\")"
   ]
  },
  {
   "cell_type": "code",
   "execution_count": 28,
   "metadata": {},
   "outputs": [],
   "source": [
    "def count_cancelled_buses(data):\n",
    "    subset = data[data.schedule_relationship != 0]\n",
    "    return len(subset)"
   ]
  },
  {
   "cell_type": "code",
   "execution_count": 29,
   "metadata": {},
   "outputs": [
    {
     "name": "stdout",
     "output_type": "stream",
     "text": [
      "Date: 20240923\n",
      "Number of unique trips timetabled in Liverpool City Region on 20240923: 39275\n",
      "Number of unique trip_ids with at least one stop in Liverpool City Region CA: 9934\n",
      "Number of those trip_ids that are also in our live data: 5883\n",
      "Percentage: 59.22%\n",
      "Cancelled buses that were in the real data: 0\n",
      "-------------------------------\n"
     ]
    }
   ],
   "source": [
    "# Get a dataframe of trips that run on input date\n",
    "trips_on_this_date_df = unique_timetabled_trips_for_date(tt_trips, tt_calendar, date=date)\n",
    "print(\"Date:\", date)\n",
    "print(f\"Number of unique trips timetabled in Liverpool City Region on {date}: {count_unique_trip_id(trips_on_this_date_df)}\")\n",
    "# Get a list of trip_ids that run on input date\n",
    "list_of_trip_ids_on_this_date = trips_on_this_date_df.trip_id.unique()\n",
    "# Use that to filter the stop_times down to only ones on input date\n",
    "tt_stop_times_this_date = tt_stop_times[tt_stop_times.trip_id.isin(list_of_trip_ids_on_this_date)]\n",
    "\n",
    "# Get all the stops that are on trips that run on input date\n",
    "full_stop_info = tt_stops.merge(tt_stop_times_this_date, on='stop_id', how='inner').loc[:, ['trip_id', 'stop_lat', 'stop_lon']]\n",
    "\n",
    "# Create Point geometries for the stop coordinates.\n",
    "stop_points = [Point(xy) for xy in zip(full_stop_info['stop_lon'], full_stop_info['stop_lat'])]\n",
    "\n",
    "# Create a GeoDataFrame of the stops that are stopped at on the input date\n",
    "points_gdf = gpd.GeoDataFrame(full_stop_info, geometry=stop_points, crs='EPSG:4326')\n",
    "\n",
    "# Perform spatial join with the boundary based on whether each stop is within the boundary or not.\n",
    "joined_gdf = gpd.sjoin(points_gdf, bndry, how=\"left\", predicate=\"within\")\n",
    "\n",
    "# Filter the geo-df to only stops that are within the boundary (right index is not NA)\n",
    "points_inside_bndry = joined_gdf[joined_gdf.index_right.notna()]\n",
    "\n",
    "# Get a list of the unique Trip IDs that have at least one stop in the boundary\n",
    "list_of_trips_in_boundary = points_inside_bndry.trip_id.unique()\n",
    "\n",
    "# Determine how many of the above there are.\n",
    "number_in_boundary = len(list_of_trips_in_boundary)\n",
    "\n",
    "# How many of the trip_ids that have at least 1 stop inside the boundary are in the live data?\n",
    "real_data_in_boundary = rt_data[rt_data.trip_id.isin(list_of_trips_in_boundary)]\n",
    "number_in_boundary_and_live_data = len(real_data_in_boundary.trip_id.unique())\n",
    "\n",
    "print(f\"Number of unique trip_ids with at least one stop in Liverpool City Region CA:\", number_in_boundary)\n",
    "print(f\"Number of those trip_ids that are also in our live data:\", number_in_boundary_and_live_data)\n",
    "print(f\"Percentage: {round(100*number_in_boundary_and_live_data/number_in_boundary,2)}%\")\n",
    "print(\"Cancelled buses that were in the real data:\", count_cancelled_buses(real_data_in_boundary))\n",
    "print(\"-------------------------------\")"
   ]
  },
  {
   "cell_type": "code",
   "execution_count": 30,
   "metadata": {},
   "outputs": [],
   "source": [
    "# real_data_in_boundary.groupby('trip_id')['trip_id'].value_counts() >= 10"
   ]
  }
 ],
 "metadata": {
  "kernelspec": {
   "display_name": "bus-tracking-JZQiYmLK",
   "language": "python",
   "name": "python3"
  },
  "language_info": {
   "codemirror_mode": {
    "name": "ipython",
    "version": 3
   },
   "file_extension": ".py",
   "mimetype": "text/x-python",
   "name": "python",
   "nbconvert_exporter": "python",
   "pygments_lexer": "ipython3",
   "version": "3.12.7"
  }
 },
 "nbformat": 4,
 "nbformat_minor": 2
}
