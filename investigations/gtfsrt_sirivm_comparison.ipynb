{
 "cells": [
  {
   "cell_type": "markdown",
   "metadata": {},
   "source": [
    "In this notebook we will explore the differences between the SiriVM and GTFS-RT feeds from the Bus Open Data Service (BODS). \n",
    "\n",
    "Things we need to do:\n",
    "\n",
    "- parse all the GTFS-RT data.\n",
    "- parse all the Siri-VM data.\n",
    "- compare the coordinates at the same timestamp and same vehicle ID"
   ]
  },
  {
   "cell_type": "code",
   "execution_count": 1,
   "metadata": {},
   "outputs": [
    {
     "data": {
      "text/plain": [
       "PosixPath('/Users/lukestrange/Code/bus-tracking')"
      ]
     },
     "execution_count": 1,
     "metadata": {},
     "output_type": "execute_result"
    }
   ],
   "source": [
    "import os\n",
    "from pathlib import Path\n",
    "os.chdir(\"../\")\n",
    "from pipelines.utils import *\n",
    "from pipelines.gtfs_realtime_utils import *\n",
    "from pipelines.sirivm_utils import *\n",
    "\n",
    "ROOT = Path(\"./\")\n",
    "ROOT.resolve()"
   ]
  },
  {
   "cell_type": "code",
   "execution_count": 2,
   "metadata": {},
   "outputs": [],
   "source": [
    "# Set the date for the data we are working with.\n",
    "date = 20241210"
   ]
  },
  {
   "cell_type": "code",
   "execution_count": 3,
   "metadata": {},
   "outputs": [
    {
     "name": "stdout",
     "output_type": "stream",
     "text": [
      "Loaded data for 20241210\n",
      "There are 9142925 entities.\n",
      "Fraction of data that was duplictaed in 'longitude', 'latitude', 'timestamp', 'vehicle_id', 'trip_id':0.8203147242266562\n",
      "Created dataframe for 20241210\n"
     ]
    }
   ],
   "source": [
    "gtfsrt_data = gtfsrt_to_dataframe(ROOT / f\"investigations/test/GTFSRT/binary\", date, round=True, drop_duplictaes=True, nth_file=None)"
   ]
  },
  {
   "cell_type": "markdown",
   "metadata": {},
   "source": [
    "Read the SiriVM files"
   ]
  },
  {
   "cell_type": "code",
   "execution_count": 4,
   "metadata": {},
   "outputs": [
    {
     "name": "stdout",
     "output_type": "stream",
     "text": [
      "Fraction of data that was duplictaed in 'longitude', 'latitude', 'timestamp', 'vehicle_id', 'trip_id':0.6786969427208746\n"
     ]
    }
   ],
   "source": [
    "sirivm_data = sirivm_to_dataframe('investigations/test/sirivm/xml/', round=True, drop_duplicates=True, nth_file=None)\n",
    "# sirivm.to_csv(ROOT / f\"data/sirivm/{date}.csv\", index=False)"
   ]
  },
  {
   "cell_type": "code",
   "execution_count": 5,
   "metadata": {},
   "outputs": [],
   "source": [
    "# Read the data\n",
    "# sirivm_data = pd.read_csv(ROOT / \"data/sirivm/20241210.csv\")\n",
    "# gtfsrt_data = pd.read_csv(ROOT  / \"data/gtfs-rt/csv/20241210.csv\")"
   ]
  },
  {
   "cell_type": "code",
   "execution_count": 6,
   "metadata": {},
   "outputs": [
    {
     "name": "stdout",
     "output_type": "stream",
     "text": [
      "Number of Siri-VM unique reported bus locations: 2172071\n",
      "Nunber of GTFSRT unique reported bus locations: 1642849\n"
     ]
    }
   ],
   "source": [
    "# Calculate the number of unique reported bus locations in the given time\n",
    "print(f\"Number of Siri-VM unique reported bus locations: {len(sirivm_data)}\")\n",
    "print(f\"Nunber of GTFSRT unique reported bus locations: {len(gtfsrt_data)}\")"
   ]
  },
  {
   "cell_type": "code",
   "execution_count": 7,
   "metadata": {},
   "outputs": [],
   "source": [
    "def join_data(left, right, on:list, how:str):\n",
    "    '''\n",
    "    Meta function for merging data and printing the length of the resultant dataframe\n",
    "\n",
    "    Params\n",
    "    ------\n",
    "      left: pd.DataDrame\n",
    "         left frame\n",
    "      right: pd.DataFrame\n",
    "         right frame\n",
    "      on: list\n",
    "         column names to merge on\n",
    "      how: str\n",
    "         how to merge - can be 'left', 'right', 'inner', 'outer', 'cross'\n",
    "    Returns\n",
    "    -------\n",
    "\n",
    "    '''\n",
    "    result = left.merge(right, on=on, how=how, indicator=True)\n",
    "    \n",
    "    if how == 'inner':\n",
    "       msg = \"Number of reported bus locations that appear in both left and right\"\n",
    "    if how == 'left':\n",
    "       msg = \"Number of reported bus locations that appear only in left\"\n",
    "       result = result[result['_merge'] == 'left_only']\n",
    "    if how == 'right':\n",
    "       msg = \"Number of reported bus locations that appear only in right\"\n",
    "       result = result[result['_merge'] == 'right_only']\n",
    "\n",
    "    print(f\"{msg}: {len(result)}\")\n",
    "    return result"
   ]
  },
  {
   "cell_type": "code",
   "execution_count": 27,
   "metadata": {},
   "outputs": [
    {
     "name": "stdout",
     "output_type": "stream",
     "text": [
      "Number of reported bus locations that appear in both left and right: 1383845\n",
      "Number of reported bus locations that appear only in left: 792786\n",
      "Number of reported bus locations that appear only in right: 259004\n"
     ]
    }
   ],
   "source": [
    "# Common rows\n",
    "common_rows = join_data(sirivm_data, gtfsrt_data, on=['timestamp', 'vehicle_id', 'longitude', 'latitude'], how='inner')\n",
    "# Siri only rows\n",
    "siri_only = join_data(sirivm_data, gtfsrt_data, on=['timestamp', 'vehicle_id', 'longitude', 'latitude'], how='left')\n",
    "# GTFSRT only rows\n",
    "gtfsrt_only = join_data(sirivm_data, gtfsrt_data, on=['timestamp', 'vehicle_id', 'longitude', 'latitude'], how='right')"
   ]
  },
  {
   "cell_type": "code",
   "execution_count": 9,
   "metadata": {},
   "outputs": [
    {
     "name": "stdout",
     "output_type": "stream",
     "text": [
      "No latitude 0\n",
      "No longitude 0\n",
      "No timestamp 561\n"
     ]
    }
   ],
   "source": [
    "print(\"No latitude\", len(siri_only[siri_only.latitude.isna()]))\n",
    "print(\"No longitude\", len(siri_only[siri_only.longitude.isna()]))\n",
    "print(\"No timestamp\", len(siri_only[siri_only.timestamp.isna()]))"
   ]
  },
  {
   "cell_type": "code",
   "execution_count": 10,
   "metadata": {},
   "outputs": [
    {
     "name": "stdout",
     "output_type": "stream",
     "text": [
      "No latitude 0\n",
      "No longitude 0\n",
      "No timestamp 0\n"
     ]
    }
   ],
   "source": [
    "print(\"No latitude\", len(gtfsrt_only[gtfsrt_only.latitude.isna()]))\n",
    "print(\"No longitude\", len(gtfsrt_only[gtfsrt_only.longitude.isna()]))\n",
    "print(\"No timestamp\", len(gtfsrt_only[gtfsrt_only.timestamp.isna()]))"
   ]
  },
  {
   "cell_type": "code",
   "execution_count": 11,
   "metadata": {},
   "outputs": [
    {
     "data": {
      "text/plain": [
       "29137"
      ]
     },
     "execution_count": 11,
     "metadata": {},
     "output_type": "execute_result"
    }
   ],
   "source": [
    "gtfsrt_only.vehicle_id.nunique()"
   ]
  },
  {
   "cell_type": "code",
   "execution_count": 12,
   "metadata": {},
   "outputs": [
    {
     "data": {
      "text/plain": [
       "22604"
      ]
     },
     "execution_count": 12,
     "metadata": {},
     "output_type": "execute_result"
    }
   ],
   "source": [
    "siri_only.vehicle_id.nunique()"
   ]
  },
  {
   "cell_type": "code",
   "execution_count": 38,
   "metadata": {},
   "outputs": [
    {
     "data": {
      "text/html": [
       "<div>\n",
       "<style scoped>\n",
       "    .dataframe tbody tr th:only-of-type {\n",
       "        vertical-align: middle;\n",
       "    }\n",
       "\n",
       "    .dataframe tbody tr th {\n",
       "        vertical-align: top;\n",
       "    }\n",
       "\n",
       "    .dataframe thead th {\n",
       "        text-align: right;\n",
       "    }\n",
       "</style>\n",
       "<table border=\"1\" class=\"dataframe\">\n",
       "  <thead>\n",
       "    <tr style=\"text-align: right;\">\n",
       "      <th></th>\n",
       "      <th>timestamp</th>\n",
       "      <th>latitude</th>\n",
       "      <th>longitude</th>\n",
       "      <th>vehicle_id</th>\n",
       "    </tr>\n",
       "  </thead>\n",
       "  <tbody>\n",
       "    <tr>\n",
       "      <th>8</th>\n",
       "      <td>1733848137.0</td>\n",
       "      <td>52.7544</td>\n",
       "      <td>0.3993</td>\n",
       "      <td>.3-YJ55BKG</td>\n",
       "    </tr>\n",
       "    <tr>\n",
       "      <th>11</th>\n",
       "      <td>1733848239.0</td>\n",
       "      <td>52.7564</td>\n",
       "      <td>0.4002</td>\n",
       "      <td>.3-YJ55BKG</td>\n",
       "    </tr>\n",
       "    <tr>\n",
       "      <th>14</th>\n",
       "      <td>1733848333.0</td>\n",
       "      <td>52.7567</td>\n",
       "      <td>0.4049</td>\n",
       "      <td>.3-YJ55BKG</td>\n",
       "    </tr>\n",
       "    <tr>\n",
       "      <th>36</th>\n",
       "      <td>1733849044.0</td>\n",
       "      <td>52.7562</td>\n",
       "      <td>0.4345</td>\n",
       "      <td>.3-YJ55BKG</td>\n",
       "    </tr>\n",
       "    <tr>\n",
       "      <th>47</th>\n",
       "      <td>1733849725.0</td>\n",
       "      <td>52.7547</td>\n",
       "      <td>0.4451</td>\n",
       "      <td>.3-YJ55BKG</td>\n",
       "    </tr>\n",
       "    <tr>\n",
       "      <th>48</th>\n",
       "      <td>1733849951.0</td>\n",
       "      <td>52.7491</td>\n",
       "      <td>0.4919</td>\n",
       "      <td>.3-YJ55BKG</td>\n",
       "    </tr>\n",
       "  </tbody>\n",
       "</table>\n",
       "</div>"
      ],
      "text/plain": [
       "      timestamp  latitude  longitude  vehicle_id\n",
       "8  1733848137.0   52.7544     0.3993  .3-YJ55BKG\n",
       "11 1733848239.0   52.7564     0.4002  .3-YJ55BKG\n",
       "14 1733848333.0   52.7567     0.4049  .3-YJ55BKG\n",
       "36 1733849044.0   52.7562     0.4345  .3-YJ55BKG\n",
       "47 1733849725.0   52.7547     0.4451  .3-YJ55BKG\n",
       "48 1733849951.0   52.7491     0.4919  .3-YJ55BKG"
      ]
     },
     "execution_count": 38,
     "metadata": {},
     "output_type": "execute_result"
    }
   ],
   "source": [
    "pd.options.display.float_format = '{:}'.format\n",
    "gtfsrt_only[gtfsrt_only.vehicle_id == '.3-YJ55BKG'][['timestamp', 'latitude', 'longitude', 'vehicle_id']].sort_values('timestamp')"
   ]
  },
  {
   "cell_type": "code",
   "execution_count": 36,
   "metadata": {},
   "outputs": [
    {
     "data": {
      "text/html": [
       "<div>\n",
       "<style scoped>\n",
       "    .dataframe tbody tr th:only-of-type {\n",
       "        vertical-align: middle;\n",
       "    }\n",
       "\n",
       "    .dataframe tbody tr th {\n",
       "        vertical-align: top;\n",
       "    }\n",
       "\n",
       "    .dataframe thead th {\n",
       "        text-align: right;\n",
       "    }\n",
       "</style>\n",
       "<table border=\"1\" class=\"dataframe\">\n",
       "  <thead>\n",
       "    <tr style=\"text-align: right;\">\n",
       "      <th></th>\n",
       "      <th>timestamp</th>\n",
       "      <th>latitude</th>\n",
       "      <th>longitude</th>\n",
       "      <th>vehicle_id</th>\n",
       "    </tr>\n",
       "  </thead>\n",
       "  <tbody>\n",
       "    <tr>\n",
       "      <th>3</th>\n",
       "      <td>1733847976.0</td>\n",
       "      <td>52.7544</td>\n",
       "      <td>0.3993</td>\n",
       "      <td>.3-YJ55BKG</td>\n",
       "    </tr>\n",
       "    <tr>\n",
       "      <th>4</th>\n",
       "      <td>1733847980.0</td>\n",
       "      <td>52.7544</td>\n",
       "      <td>0.3993</td>\n",
       "      <td>.3-YJ55BKG</td>\n",
       "    </tr>\n",
       "    <tr>\n",
       "      <th>7</th>\n",
       "      <td>1733848041.0</td>\n",
       "      <td>52.7544</td>\n",
       "      <td>0.3993</td>\n",
       "      <td>.3-YJ55BKG</td>\n",
       "    </tr>\n",
       "    <tr>\n",
       "      <th>11</th>\n",
       "      <td>1733848129.0</td>\n",
       "      <td>52.7544</td>\n",
       "      <td>0.3993</td>\n",
       "      <td>.3-YJ55BKG</td>\n",
       "    </tr>\n",
       "    <tr>\n",
       "      <th>12</th>\n",
       "      <td>1733848157.0</td>\n",
       "      <td>52.7544</td>\n",
       "      <td>0.3995</td>\n",
       "      <td>.3-YJ55BKG</td>\n",
       "    </tr>\n",
       "    <tr>\n",
       "      <th>15</th>\n",
       "      <td>1733848213.0</td>\n",
       "      <td>52.7553</td>\n",
       "      <td>0.4008</td>\n",
       "      <td>.3-YJ55BKG</td>\n",
       "    </tr>\n",
       "    <tr>\n",
       "      <th>16</th>\n",
       "      <td>1733848229.0</td>\n",
       "      <td>52.7559</td>\n",
       "      <td>0.4004</td>\n",
       "      <td>.3-YJ55BKG</td>\n",
       "    </tr>\n",
       "    <tr>\n",
       "      <th>17</th>\n",
       "      <td>1733848247.0</td>\n",
       "      <td>52.7568</td>\n",
       "      <td>0.4004</td>\n",
       "      <td>.3-YJ55BKG</td>\n",
       "    </tr>\n",
       "    <tr>\n",
       "      <th>19</th>\n",
       "      <td>1733848284.0</td>\n",
       "      <td>52.7563</td>\n",
       "      <td>0.4028</td>\n",
       "      <td>.3-YJ55BKG</td>\n",
       "    </tr>\n",
       "    <tr>\n",
       "      <th>20</th>\n",
       "      <td>1733848289.0</td>\n",
       "      <td>52.7564</td>\n",
       "      <td>0.4033</td>\n",
       "      <td>.3-YJ55BKG</td>\n",
       "    </tr>\n",
       "    <tr>\n",
       "      <th>22</th>\n",
       "      <td>1733848333.0</td>\n",
       "      <td>52.7568</td>\n",
       "      <td>0.4049</td>\n",
       "      <td>.3-YJ55BKG</td>\n",
       "    </tr>\n",
       "    <tr>\n",
       "      <th>23</th>\n",
       "      <td>1733848366.0</td>\n",
       "      <td>52.7568</td>\n",
       "      <td>0.405</td>\n",
       "      <td>.3-YJ55BKG</td>\n",
       "    </tr>\n",
       "    <tr>\n",
       "      <th>26</th>\n",
       "      <td>1733848453.0</td>\n",
       "      <td>52.7576</td>\n",
       "      <td>0.4067</td>\n",
       "      <td>.3-YJ55BKG</td>\n",
       "    </tr>\n",
       "    <tr>\n",
       "      <th>35</th>\n",
       "      <td>1733848718.0</td>\n",
       "      <td>52.7574</td>\n",
       "      <td>0.414</td>\n",
       "      <td>.3-YJ55BKG</td>\n",
       "    </tr>\n",
       "    <tr>\n",
       "      <th>37</th>\n",
       "      <td>1733848728.0</td>\n",
       "      <td>52.7574</td>\n",
       "      <td>0.4145</td>\n",
       "      <td>.3-YJ55BKG</td>\n",
       "    </tr>\n",
       "    <tr>\n",
       "      <th>38</th>\n",
       "      <td>1733848741.0</td>\n",
       "      <td>52.7575</td>\n",
       "      <td>0.4149</td>\n",
       "      <td>.3-YJ55BKG</td>\n",
       "    </tr>\n",
       "    <tr>\n",
       "      <th>40</th>\n",
       "      <td>1733848763.0</td>\n",
       "      <td>52.7574</td>\n",
       "      <td>0.4177</td>\n",
       "      <td>.3-YJ55BKG</td>\n",
       "    </tr>\n",
       "    <tr>\n",
       "      <th>45</th>\n",
       "      <td>1733848883.0</td>\n",
       "      <td>52.757</td>\n",
       "      <td>0.4235</td>\n",
       "      <td>.3-YJ55BKG</td>\n",
       "    </tr>\n",
       "    <tr>\n",
       "      <th>46</th>\n",
       "      <td>1733848897.0</td>\n",
       "      <td>52.757</td>\n",
       "      <td>0.4237</td>\n",
       "      <td>.3-YJ55BKG</td>\n",
       "    </tr>\n",
       "    <tr>\n",
       "      <th>50</th>\n",
       "      <td>1733848973.0</td>\n",
       "      <td>52.7565</td>\n",
       "      <td>0.4317</td>\n",
       "      <td>.3-YJ55BKG</td>\n",
       "    </tr>\n",
       "    <tr>\n",
       "      <th>52</th>\n",
       "      <td>1733849009.0</td>\n",
       "      <td>52.7564</td>\n",
       "      <td>0.433</td>\n",
       "      <td>.3-YJ55BKG</td>\n",
       "    </tr>\n",
       "    <tr>\n",
       "      <th>54</th>\n",
       "      <td>1733849035.0</td>\n",
       "      <td>52.7563</td>\n",
       "      <td>0.4333</td>\n",
       "      <td>.3-YJ55BKG</td>\n",
       "    </tr>\n",
       "    <tr>\n",
       "      <th>55</th>\n",
       "      <td>1733849044.0</td>\n",
       "      <td>52.7562</td>\n",
       "      <td>0.4346</td>\n",
       "      <td>.3-YJ55BKG</td>\n",
       "    </tr>\n",
       "    <tr>\n",
       "      <th>57</th>\n",
       "      <td>1733849108.0</td>\n",
       "      <td>52.7553</td>\n",
       "      <td>0.4406</td>\n",
       "      <td>.3-YJ55BKG</td>\n",
       "    </tr>\n",
       "    <tr>\n",
       "      <th>61</th>\n",
       "      <td>1733849189.0</td>\n",
       "      <td>52.755</td>\n",
       "      <td>0.4436</td>\n",
       "      <td>.3-YJ55BKG</td>\n",
       "    </tr>\n",
       "    <tr>\n",
       "      <th>62</th>\n",
       "      <td>1733849202.0</td>\n",
       "      <td>52.755</td>\n",
       "      <td>0.4448</td>\n",
       "      <td>.3-YJ55BKG</td>\n",
       "    </tr>\n",
       "    <tr>\n",
       "      <th>65</th>\n",
       "      <td>1733849251.0</td>\n",
       "      <td>52.7556</td>\n",
       "      <td>0.4463</td>\n",
       "      <td>.3-YJ55BKG</td>\n",
       "    </tr>\n",
       "    <tr>\n",
       "      <th>70</th>\n",
       "      <td>1733849391.0</td>\n",
       "      <td>52.7556</td>\n",
       "      <td>0.4463</td>\n",
       "      <td>.3-YJ55BKG</td>\n",
       "    </tr>\n",
       "    <tr>\n",
       "      <th>71</th>\n",
       "      <td>1733850017.0</td>\n",
       "      <td>52.7473</td>\n",
       "      <td>0.5098</td>\n",
       "      <td>.3-YJ55BKG</td>\n",
       "    </tr>\n",
       "  </tbody>\n",
       "</table>\n",
       "</div>"
      ],
      "text/plain": [
       "      timestamp  latitude  longitude  vehicle_id\n",
       "3  1733847976.0   52.7544     0.3993  .3-YJ55BKG\n",
       "4  1733847980.0   52.7544     0.3993  .3-YJ55BKG\n",
       "7  1733848041.0   52.7544     0.3993  .3-YJ55BKG\n",
       "11 1733848129.0   52.7544     0.3993  .3-YJ55BKG\n",
       "12 1733848157.0   52.7544     0.3995  .3-YJ55BKG\n",
       "15 1733848213.0   52.7553     0.4008  .3-YJ55BKG\n",
       "16 1733848229.0   52.7559     0.4004  .3-YJ55BKG\n",
       "17 1733848247.0   52.7568     0.4004  .3-YJ55BKG\n",
       "19 1733848284.0   52.7563     0.4028  .3-YJ55BKG\n",
       "20 1733848289.0   52.7564     0.4033  .3-YJ55BKG\n",
       "22 1733848333.0   52.7568     0.4049  .3-YJ55BKG\n",
       "23 1733848366.0   52.7568      0.405  .3-YJ55BKG\n",
       "26 1733848453.0   52.7576     0.4067  .3-YJ55BKG\n",
       "35 1733848718.0   52.7574      0.414  .3-YJ55BKG\n",
       "37 1733848728.0   52.7574     0.4145  .3-YJ55BKG\n",
       "38 1733848741.0   52.7575     0.4149  .3-YJ55BKG\n",
       "40 1733848763.0   52.7574     0.4177  .3-YJ55BKG\n",
       "45 1733848883.0    52.757     0.4235  .3-YJ55BKG\n",
       "46 1733848897.0    52.757     0.4237  .3-YJ55BKG\n",
       "50 1733848973.0   52.7565     0.4317  .3-YJ55BKG\n",
       "52 1733849009.0   52.7564      0.433  .3-YJ55BKG\n",
       "54 1733849035.0   52.7563     0.4333  .3-YJ55BKG\n",
       "55 1733849044.0   52.7562     0.4346  .3-YJ55BKG\n",
       "57 1733849108.0   52.7553     0.4406  .3-YJ55BKG\n",
       "61 1733849189.0    52.755     0.4436  .3-YJ55BKG\n",
       "62 1733849202.0    52.755     0.4448  .3-YJ55BKG\n",
       "65 1733849251.0   52.7556     0.4463  .3-YJ55BKG\n",
       "70 1733849391.0   52.7556     0.4463  .3-YJ55BKG\n",
       "71 1733850017.0   52.7473     0.5098  .3-YJ55BKG"
      ]
     },
     "execution_count": 36,
     "metadata": {},
     "output_type": "execute_result"
    }
   ],
   "source": [
    "pd.options.display.float_format = '{:}'.format\n",
    "siri_only[siri_only.vehicle_id == '.3-YJ55BKG'][['timestamp', 'latitude', 'longitude', 'vehicle_id']].sort_values('timestamp')"
   ]
  },
  {
   "cell_type": "code",
   "execution_count": 37,
   "metadata": {},
   "outputs": [
    {
     "data": {
      "text/plain": [
       "2042"
      ]
     },
     "execution_count": 37,
     "metadata": {},
     "output_type": "execute_result"
    }
   ],
   "source": [
    "50017-47975"
   ]
  }
 ],
 "metadata": {
  "kernelspec": {
   "display_name": "bus-tracking-JZQiYmLK",
   "language": "python",
   "name": "python3"
  },
  "language_info": {
   "codemirror_mode": {
    "name": "ipython",
    "version": 3
   },
   "file_extension": ".py",
   "mimetype": "text/x-python",
   "name": "python",
   "nbconvert_exporter": "python",
   "pygments_lexer": "ipython3",
   "version": "3.12.7"
  }
 },
 "nbformat": 4,
 "nbformat_minor": 2
}
