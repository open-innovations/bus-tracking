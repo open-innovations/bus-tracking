{
 "cells": [
  {
   "cell_type": "markdown",
   "metadata": {},
   "source": [
    "### This is a one time script to assign ONS output area populations to their centroid lat/long coordinates. \n",
    "\n",
    "It is used when estimating the population in each isochrone."
   ]
  },
  {
   "cell_type": "code",
   "execution_count": null,
   "metadata": {},
   "outputs": [],
   "source": [
    "# Import modules and set paths\n",
    "import pandas as pd\n",
    "from pathlib import Path\n",
    "from pyproj import Transformer\n",
    "ROOT = Path(\"../\")\n",
    "ROOT.resolve()"
   ]
  },
  {
   "cell_type": "code",
   "execution_count": 2,
   "metadata": {},
   "outputs": [],
   "source": [
    "def convert_to_latlong(df, x_coord_name:str, y_coord_name:str, from_crs=\"EPSG:27700\", to_crs=\"EPSG:4326\"):\n",
    "    '''\n",
    "    Function to convert a single row of Easting/Northing to Lat/Long\n",
    "\n",
    "    Parameters\n",
    "    ----------\n",
    "        df: pandas.DataFrame\n",
    "        x_coord_name: str\n",
    "        y_coord_name: str\n",
    "    Returns\n",
    "    -------\n",
    "        df: pandas.DataFrame\n",
    "            Dataframe with converted coordinates.\n",
    "    '''\n",
    "    # Example: OSGB36 (EPSG:27700) to WGS84 (EPSG:4326)\n",
    "    transformer = Transformer.from_crs(from_crs, to_crs, always_xy=True)\n",
    "    copy = df.copy()\n",
    "\n",
    "    for i, row in copy.iterrows():\n",
    "        longitude, latitude = transformer.transform(row[x_coord_name], row[y_coord_name])\n",
    "        df.loc[i, 'latitude'] = round(latitude, 5)\n",
    "        df.loc[i, 'longitude'] = round(longitude, 5)\n",
    "    \n",
    "    return df"
   ]
  },
  {
   "cell_type": "code",
   "execution_count": 4,
   "metadata": {},
   "outputs": [],
   "source": [
    "# Read the centroids\n",
    "centroids = pd.read_csv(ROOT / \"data/population/output_area_centroids_2021.csv\", usecols=['OA21CD', 'x', 'y'])\n",
    "# Convert them to lat, longs\n",
    "converted = convert_to_latlong(centroids, 'x', 'y')\n",
    "# Read the populations\n",
    "pop = pd.read_excel(ROOT / \"data/population/sapeoatablefinal2022v2.xlsx\", sheet_name='Mid-2022 OA 2021', header=3, usecols=['OA 2021 Code', 'Total'])\n",
    "# Rename the column for merging\n",
    "pop.rename(columns={'OA 2021 Code': 'OA21CD'}, inplace=True)\n",
    "# Merge the centroid and population dataframes\n",
    "merged = pop.merge(converted, on='OA21CD', how='inner')\n",
    "# Slice only columns we need.\n",
    "merged = merged.loc[:, ['OA21CD', 'latitude', 'longitude', 'Total']]\n",
    "# Write file\n",
    "merged.to_csv(ROOT / 'data/population/OA21CD_population.csv', index=False)"
   ]
  }
 ],
 "metadata": {
  "kernelspec": {
   "display_name": "bus-tracking-JZQiYmLK",
   "language": "python",
   "name": "python3"
  },
  "language_info": {
   "codemirror_mode": {
    "name": "ipython",
    "version": 3
   },
   "file_extension": ".py",
   "mimetype": "text/x-python",
   "name": "python",
   "nbconvert_exporter": "python",
   "pygments_lexer": "ipython3",
   "version": "3.12.7"
  }
 },
 "nbformat": 4,
 "nbformat_minor": 2
}
